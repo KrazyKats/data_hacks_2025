{
 "cells": [
  {
   "cell_type": "code",
   "execution_count": 8,
   "id": "e7f53e1d-847b-44bc-bc43-221ba3861eae",
   "metadata": {},
   "outputs": [
    {
     "data": {
      "text/plain": [
       "princess\n",
       "anna          1984\n",
       "ariel          515\n",
       "belle         1944\n",
       "cinderella    1006\n",
       "elsa           796\n",
       "merida        1859\n",
       "rapunzel      1611\n",
       "snow white     798\n",
       "tiana         1307\n",
       "Name: word_count, dtype: int64"
      ]
     },
     "execution_count": 8,
     "metadata": {},
     "output_type": "execute_result"
    }
   ],
   "source": [
    "import os\n",
    "import re\n",
    "import pandas as pd\n",
    "\n",
    "def extract_dialogue(script_text, character_name):\n",
    "    # Match character name at the beginning of a line followed by a colon\n",
    "    pattern = re.compile(rf'^{re.escape(character_name)}\\s*:\\s*(.*)', re.IGNORECASE)\n",
    "    dialogue_lines = []\n",
    "\n",
    "    for line in script_text.splitlines():\n",
    "        line = line.strip()\n",
    "        match = pattern.match(line)\n",
    "        if match:\n",
    "            dialogue = match.group(1)\n",
    "\n",
    "            # Remove anything in (), [], {}, or <>\n",
    "            dialogue = re.sub(r'[\\(\\[\\{<][^)\\]\\}>]*[\\)\\]\\}>]', '', dialogue)\n",
    "            dialogue = dialogue.strip()\n",
    "\n",
    "            if dialogue:\n",
    "                dialogue_lines.append(dialogue)\n",
    "\n",
    "    return dialogue_lines\n",
    "\n",
    "# Directory containing your transcripts\n",
    "transcript_dir = r\"C:\\Users\\21dan\\OneDrive\\Desktop\\Code\\DojaCode\\data_hacks_2025\\Code_space\\transcripts\"\n",
    "output_rows = []\n",
    "\n",
    "# Loop through all .txt files\n",
    "for filename in os.listdir(transcript_dir):\n",
    "    if filename.endswith(\".txt\"):\n",
    "        file_path = os.path.join(transcript_dir, filename)\n",
    "\n",
    "        # Assume the princess name is the file name (without extension)\n",
    "        princess_name = os.path.splitext(filename)[0]\n",
    "\n",
    "        with open(file_path, \"r\", encoding=\"utf-8\") as file:\n",
    "            script_text = file.read()\n",
    "\n",
    "        lines = extract_dialogue(script_text, princess_name)\n",
    "\n",
    "        for line in lines:\n",
    "            output_rows.append({\n",
    "                \"princess\": princess_name,\n",
    "                \"dialogue\": line\n",
    "            })\n",
    "\n",
    "# Create DataFrame and calculate word counts\n",
    "df = pd.DataFrame(output_rows)\n",
    "df[\"word_count\"] = df[\"dialogue\"].apply(lambda x: len(x.split()))\n",
    "df.set_index(\"princess\", inplace=True)\n",
    "\n",
    "# To display grouped word counts per princess\n",
    "df.groupby('princess').sum"
   ]
  },
  {
   "cell_type": "code",
   "execution_count": 3,
   "id": "cefaaea1-5da6-4940-876d-941420af4c32",
   "metadata": {},
   "outputs": [],
   "source": [
    "df.to_csv(\"transcript.csv\")"
   ]
  },
  {
   "cell_type": "code",
   "execution_count": null,
   "id": "86d2ba42-f30f-4005-a8ad-124bfe76bfa5",
   "metadata": {},
   "outputs": [],
   "source": []
  }
 ],
 "metadata": {
  "kernelspec": {
   "display_name": "Python 3 (ipykernel)",
   "language": "python",
   "name": "python3"
  },
  "language_info": {
   "codemirror_mode": {
    "name": "ipython",
    "version": 3
   },
   "file_extension": ".py",
   "mimetype": "text/x-python",
   "name": "python",
   "nbconvert_exporter": "python",
   "pygments_lexer": "ipython3",
   "version": "3.12.6"
  }
 },
 "nbformat": 4,
 "nbformat_minor": 5
}
